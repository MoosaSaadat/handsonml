{
  "nbformat": 4,
  "nbformat_minor": 0,
  "metadata": {
    "colab": {
      "name": "tensorflow_nn.ipynb",
      "provenance": [],
      "authorship_tag": "ABX9TyOdOKmQbUf5FoJR4KvjxsVU",
      "include_colab_link": true
    },
    "kernelspec": {
      "name": "python3",
      "display_name": "Python 3"
    }
  },
  "cells": [
    {
      "cell_type": "markdown",
      "metadata": {
        "id": "view-in-github",
        "colab_type": "text"
      },
      "source": [
        "<a href=\"https://colab.research.google.com/github/MoosaSaadat/handsonml/blob/master/tensorflow_nn.ipynb\" target=\"_parent\"><img src=\"https://colab.research.google.com/assets/colab-badge.svg\" alt=\"Open In Colab\"/></a>"
      ]
    },
    {
      "cell_type": "code",
      "metadata": {
        "id": "i28v2vcDWDtN",
        "colab_type": "code",
        "colab": {
          "base_uri": "https://localhost:8080/",
          "height": 34
        },
        "outputId": "76210ede-98cf-4461-9917-17f7fe99f4b7"
      },
      "source": [
        "import tensorflow as tf\n",
        "import numpy as np\n",
        "import matplotlib.pyplot as plt\n",
        "\n",
        "print('TensorFlow Version:', tf.__version__)"
      ],
      "execution_count": 1,
      "outputs": [
        {
          "output_type": "stream",
          "text": [
            "TensorFlow Version: 2.2.0\n"
          ],
          "name": "stdout"
        }
      ]
    },
    {
      "cell_type": "code",
      "metadata": {
        "id": "uvUzfHLfWfv-",
        "colab_type": "code",
        "colab": {}
      },
      "source": [
        "# Utility functions\n",
        "def load_data():\n",
        "    (x_train, y_train), (x_test, y_test) = tf.keras.datasets.mnist.load_data()\n",
        "    x_train = np.reshape(x_train, (x_train.shape[0], 784))/255.\n",
        "    x_test = np.reshape(x_test, (x_test.shape[0], 784))/255.\n",
        "    y_train = tf.keras.utils.to_categorical(y_train)\n",
        "    y_test = tf.keras.utils.to_categorical(y_test)\n",
        "    return (x_train, y_train), (x_test, y_test)\n",
        "\n",
        "def plot_random_examples(x, y, p=None):\n",
        "    indices = np.random.choice(range(0, x.shape[0]), 10)\n",
        "    y = np.argmax(y, axis=1)\n",
        "    if p is None:\n",
        "        p = y\n",
        "    plt.figure(figsize=(10, 5))\n",
        "    for i, index in enumerate(indices):\n",
        "        plt.subplot(2, 5, i+1)\n",
        "        plt.imshow(x[index].reshape((28, 28)), cmap='binary')\n",
        "        plt.xticks([])\n",
        "        plt.yticks([])\n",
        "        if y[index] == p[index]:\n",
        "            col = 'g'\n",
        "        else:\n",
        "            col = 'r'\n",
        "        plt.xlabel(str(p[index]), color=col)\n",
        "    return plt\n",
        "\n",
        "def plot_results(history):\n",
        "    plt.figure(figsize=(12, 4))\n",
        "    epochs = len(history['val_loss'])\n",
        "    plt.subplot(1, 2, 1)\n",
        "    plt.plot(range(epochs), history['val_loss'], label='Val Loss')\n",
        "    plt.plot(range(epochs), history['train_loss'], label='Train Loss')\n",
        "    plt.xticks(list(range(epochs)))\n",
        "    plt.xlabel('Epochs')\n",
        "    plt.ylabel('Loss')\n",
        "    plt.legend()\n",
        "    plt.subplot(1, 2, 2)\n",
        "    plt.plot(range(epochs), history['val_acc'], label='Val Acc')\n",
        "    plt.xticks(list(range(epochs)))\n",
        "    plt.xlabel('Epochs')\n",
        "    plt.ylabel('Accuracy')\n",
        "    plt.legend()\n",
        "    return plt"
      ],
      "execution_count": 2,
      "outputs": []
    },
    {
      "cell_type": "code",
      "metadata": {
        "id": "mpYAaybNXJ-H",
        "colab_type": "code",
        "colab": {}
      },
      "source": [
        "# Neural Network Class\n",
        "class NeuralNetwork:\n",
        "    def __init__(self, layers):\n",
        "        self.layers = layers\n",
        "        self.L = len(layers)\n",
        "        self.num_features = layers[0]\n",
        "        self.num_classes = layers[-1]\n",
        "        \n",
        "        self.W = {}\n",
        "        self.b = {}\n",
        "        \n",
        "        self.dW = {}\n",
        "        self.db = {}\n",
        "        \n",
        "        self.setup()\n",
        "        \n",
        "    def setup(self):\n",
        "        for i in range(1, self.L):\n",
        "          self.W[i] = tf.Variable(\n",
        "              np.random.normal(size=(self.layers[i], self.layers[i-1])),\n",
        "              dtype=tf.float32\n",
        "          )\n",
        "          self.b[i] = tf.Variable(\n",
        "              np.random.normal(size=(self.layers[i], 1)),\n",
        "              dtype=tf.float32\n",
        "          )\n",
        "    \n",
        "    def forward_pass(self, A):\n",
        "        A = tf.convert_to_tensor(A, dtype=tf.float32)\n",
        "        for i in range(1, self.L):\n",
        "            Z = tf.matmul(A, tf.transpose(self.W[i])) + tf.transpose(self.b[i])\n",
        "            if i != self.L-1:\n",
        "                A = tf.nn.relu(Z)\n",
        "            else:\n",
        "                A = Z\n",
        "        return A\n",
        "\n",
        "    def compute_loss(self, A, Y):\n",
        "        loss = tf.nn.softmax_cross_entropy_with_logits(Y, A)\n",
        "        return tf.reduce_mean(loss)\n",
        "\n",
        "    def update_params(self, lr):\n",
        "        for i in range(1, self.L):\n",
        "            self.W[i].assign_sub(lr * self.dW[i])\n",
        "            self.b[i].assign_sub(lr * self.db[i])\n",
        "\n",
        "    def predict(self, X):\n",
        "        A = self.forward_pass(X)\n",
        "        return tf.argmax(tf.nn.softmax(A), axis=1)\n",
        "\n",
        "    def info(self):\n",
        "        num_params = 0\n",
        "        for i in range(1, self.L):\n",
        "            num_params += self.W[i].shape[0] * self.W[i].shape[1]\n",
        "            num_params += self.b[i].shape[0]\n",
        "        print('Input Features:', self.num_features)\n",
        "        print('Number of Classes:', self.num_classes)\n",
        "        print('Hidden Layers:')\n",
        "        print('--------------')\n",
        "        for i in range(1, self.L-1):\n",
        "            print(f\"Layer {i}, Units {self.layers[i]}\")\n",
        "        print('--------------')\n",
        "        print('Number of parameters:', num_params)\n",
        "\n",
        "    def train_on_batch(self, X, Y, lr):\n",
        "        X = tf.convert_to_tensor(X, dtype=tf.float32)\n",
        "        Y = tf.convert_to_tensor(Y, dtype=tf.float32)\n",
        "        \n",
        "        with tf.GradientTape(persistent=True) as tape:\n",
        "            A = self.forward_pass(X)\n",
        "            loss = self.compute_loss(A, Y)\n",
        "        for key in self.W.keys():\n",
        "            self.dW[key] = tape.gradient(loss, self.W[key])\n",
        "            self.db[key] = tape.gradient(loss, self.b[key])\n",
        "        del tape\n",
        "        self.update_params(lr)\n",
        "        \n",
        "        return loss.numpy()\n",
        "\n",
        "    def train(self, x_train, y_train, x_test, y_test, epochs, steps_per_epoch, batch_size, lr):\n",
        "        history = {\n",
        "            'val_loss': [],\n",
        "            'train_loss': [],\n",
        "            'val_acc': []\n",
        "        }\n",
        "        \n",
        "        for e in range(0, epochs):\n",
        "            epoch_train_loss = 0.\n",
        "            print('Epoch {}'.format(e), end='.')\n",
        "            for i in range(0, steps_per_epoch):\n",
        "                x_batch = x_train[i*batch_size:(i+1)*batch_size]\n",
        "                y_batch = y_train[i*batch_size:(i+1)*batch_size]\n",
        "                batch_loss = self.train_on_batch(x_batch, y_batch, lr)\n",
        "                epoch_train_loss += batch_loss\n",
        "                \n",
        "                if i%int(steps_per_epoch/10) == 0:\n",
        "                    print(end='.')\n",
        "                    \n",
        "            history['train_loss'].append(epoch_train_loss/steps_per_epoch)\n",
        "            \n",
        "            val_A = self.forward_pass(x_test)\n",
        "            history['val_loss'].append(self.compute_loss(val_A, y_test).numpy())\n",
        "            \n",
        "            val_preds = self.predict(x_test)\n",
        "            history['val_acc'].append(np.mean(np.argmax(y_test, axis=1) == val_preds.numpy()))\n",
        "            print('Val Acc:', history['val_acc'][-1])\n",
        "        return history"
      ],
      "execution_count": 43,
      "outputs": []
    },
    {
      "cell_type": "code",
      "metadata": {
        "id": "SvUP9oOubi0H",
        "colab_type": "code",
        "colab": {
          "base_uri": "https://localhost:8080/",
          "height": 306
        },
        "outputId": "9ae16eb4-0c83-4820-b1af-2ba0ccb70b9a"
      },
      "source": [
        "# Load dataset\n",
        "(x_train, y_train), (x_test, y_test) = load_data()\n",
        "plot_random_examples(x_train, y_train).plot()"
      ],
      "execution_count": 44,
      "outputs": [
        {
          "output_type": "execute_result",
          "data": {
            "text/plain": [
              "[]"
            ]
          },
          "metadata": {
            "tags": []
          },
          "execution_count": 44
        },
        {
          "output_type": "display_data",
          "data": {
            "image/png": "[encoded data removed]",
            "text/plain": [
              "<Figure size 720x360 with 10 Axes>"
            ]
          },
          "metadata": {
            "tags": []
          }
        }
      ]
    },
    {
      "cell_type": "code",
      "metadata": {
        "id": "pVllHI4MpJ0z",
        "colab_type": "code",
        "colab": {
          "base_uri": "https://localhost:8080/",
          "height": 153
        },
        "outputId": "8b403dd3-3873-48f6-fee0-7aaa9fa0f95c"
      },
      "source": [
        "# Create model\n",
        "model = NeuralNetwork([784, 128, 128, 10])\n",
        "model.info()"
      ],
      "execution_count": 49,
      "outputs": [
        {
          "output_type": "stream",
          "text": [
            "Input Features: 784\n",
            "Number of Classes: 10\n",
            "Hidden Layers:\n",
            "--------------\n",
            "Layer 1, Units 128\n",
            "Layer 2, Units 128\n",
            "--------------\n",
            "Number of parameters: 118282\n"
          ],
          "name": "stdout"
        }
      ]
    },
    {
      "cell_type": "code",
      "metadata": {
        "id": "jMgV8fq8syt2",
        "colab_type": "code",
        "colab": {
          "base_uri": "https://localhost:8080/",
          "height": 34
        },
        "outputId": "10d30c20-2f6d-4d29-a15b-b96115cf55ef"
      },
      "source": [
        "# Parameters\n",
        "batch_size = 120\n",
        "epochs = 5\n",
        "steps_per_epoch = int(x_train.shape[0]/batch_size)\n",
        "lr = 3e-3\n",
        "\n",
        "print(\"Steps per epoch:\", steps_per_epoch)"
      ],
      "execution_count": 50,
      "outputs": [
        {
          "output_type": "stream",
          "text": [
            "Steps per epoch: 500\n"
          ],
          "name": "stdout"
        }
      ]
    },
    {
      "cell_type": "code",
      "metadata": {
        "id": "YjsXbMHttM_A",
        "colab_type": "code",
        "colab": {
          "base_uri": "https://localhost:8080/",
          "height": 102
        },
        "outputId": "f8475c34-f713-4078-8fa5-cdcaf2e18840"
      },
      "source": [
        "# Train model\n",
        "history = model.train(\n",
        "    x_train, y_train,\n",
        "    x_test, y_test,\n",
        "    epochs, steps_per_epoch,\n",
        "    batch_size, lr\n",
        ")"
      ],
      "execution_count": 52,
      "outputs": [
        {
          "output_type": "stream",
          "text": [
            "Epoch 0...........Val Acc: 0.8335\n",
            "Epoch 1...........Val Acc: 0.8506\n",
            "Epoch 2...........Val Acc: 0.8651\n",
            "Epoch 3...........Val Acc: 0.8708\n",
            "Epoch 4...........Val Acc: 0.8745\n"
          ],
          "name": "stdout"
        }
      ]
    },
    {
      "cell_type": "code",
      "metadata": {
        "id": "73bPOjt5tkfU",
        "colab_type": "code",
        "colab": {
          "base_uri": "https://localhost:8080/",
          "height": 279
        },
        "outputId": "1b1939b1-13a7-41a0-a611-7fc0d83f7650"
      },
      "source": [
        "# Plot results\n",
        "plot_results(history).show()"
      ],
      "execution_count": 53,
      "outputs": [
        {
          "output_type": "display_data",
          "data": {
            "image/png": "[encoded data removed]",
            "text/plain": [
              "<Figure size 864x288 with 2 Axes>"
            ]
          },
          "metadata": {
            "tags": [],
            "needs_background": "light"
          }
        }
      ]
    },
    {
      "cell_type": "code",
      "metadata": {
        "id": "5muZhbavvxPZ",
        "colab_type": "code",
        "colab": {}
      },
      "source": [
        ""
      ],
      "execution_count": null,
      "outputs": []
    }
  ]
}