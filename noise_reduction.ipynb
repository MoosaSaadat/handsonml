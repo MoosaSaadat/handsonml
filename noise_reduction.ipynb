{
  "nbformat": 4,
  "nbformat_minor": 0,
  "metadata": {
    "colab": {
      "name": "noise_reduction.ipynb",
      "provenance": [],
      "authorship_tag": "ABX9TyPHrXanYKZIlezx4p8g77Gl",
      "include_colab_link": true
    },
    "kernelspec": {
      "name": "python3",
      "display_name": "Python 3"
    }
  },
  "cells": [
    {
      "cell_type": "markdown",
      "metadata": {
        "id": "view-in-github",
        "colab_type": "text"
      },
      "source": [
        "<a href=\"https://colab.research.google.com/github/MoosaSaadat/handsonml/blob/master/noise_reduction.ipynb\" target=\"_parent\"><img src=\"https://colab.research.google.com/assets/colab-badge.svg\" alt=\"Open In Colab\"/></a>"
      ]
    },
    {
      "cell_type": "code",
      "metadata": {
        "id": "qfQJydDG1jO8",
        "colab_type": "code",
        "colab": {
          "base_uri": "https://localhost:8080/",
          "height": 34
        },
        "outputId": "29e2e4d8-15d6-451b-f78f-f20460b9e107"
      },
      "source": [
        "import numpy as np\n",
        "\n",
        "import tensorflow as tf\n",
        "from tensorflow.keras.datasets import mnist\n",
        "from tensorflow.keras.models import Sequential, Model\n",
        "from tensorflow.keras.layers import Dense, Input\n",
        "from tensorflow.keras.callbacks import EarlyStopping, LambdaCallback\n",
        "from tensorflow.keras.utils import to_categorical\n",
        "from matplotlib import pyplot as plt\n",
        "\n",
        "print(tf.__version__)"
      ],
      "execution_count": 1,
      "outputs": [
        {
          "output_type": "stream",
          "text": [
            "2.2.0\n"
          ],
          "name": "stdout"
        }
      ]
    },
    {
      "cell_type": "code",
      "metadata": {
        "id": "NVmPW47r17ky",
        "colab_type": "code",
        "colab": {
          "base_uri": "https://localhost:8080/",
          "height": 51
        },
        "outputId": "df178f40-a609-4a78-ded0-1bfa439c83cd"
      },
      "source": [
        "# Load data\n",
        "(x_train, y_train), (x_test, y_test) = mnist.load_data()\n",
        "print(f\"Train Shape: {x_train.shape}\")\n",
        "print(f\"Test Shape: {x_test.shape}\")"
      ],
      "execution_count": 3,
      "outputs": [
        {
          "output_type": "stream",
          "text": [
            "Train Shape: (60000, 28, 28)\n",
            "Test Shape: (10000, 28, 28)\n"
          ],
          "name": "stdout"
        }
      ]
    },
    {
      "cell_type": "code",
      "metadata": {
        "id": "wj0Oj5Fo2G9_",
        "colab_type": "code",
        "colab": {
          "base_uri": "https://localhost:8080/",
          "height": 51
        },
        "outputId": "c882a38b-b249-4102-c6fe-cb06ec86c889"
      },
      "source": [
        "# Transform data\n",
        "x_train = x_train / 255\n",
        "x_test = x_test / 255\n",
        "x_train = np.reshape(x_train, (60000, 784))\n",
        "x_test = np.reshape(x_test, (10000, 784))\n",
        "print(f\"Train Shape: {x_train.shape}\")\n",
        "print(f\"Test Shape: {x_test.shape}\")"
      ],
      "execution_count": 5,
      "outputs": [
        {
          "output_type": "stream",
          "text": [
            "Train Shape: (60000, 784)\n",
            "Test Shape: (10000, 784)\n"
          ],
          "name": "stdout"
        }
      ]
    },
    {
      "cell_type": "code",
      "metadata": {
        "id": "eiIlHM5S2f83",
        "colab_type": "code",
        "colab": {
          "base_uri": "https://localhost:8080/",
          "height": 139
        },
        "outputId": "9b30f18d-f6e8-4bda-8909-97a599fea49f"
      },
      "source": [
        "# Visualize dataset\n",
        "def plot(x, p, labels=False):\n",
        "  plt.figure(figsize=(20,2))\n",
        "  indices = np.random.randint(x.shape[0], size=10)\n",
        "  for i, idx in enumerate(indices):\n",
        "    plt.subplot(1, 10, i+1)\n",
        "    plt.imshow(x[idx].reshape(28,28), cmap=\"binary\")\n",
        "    plt.xticks([])\n",
        "    plt.yticks([])\n",
        "    if labels:\n",
        "      plt.xlabel(p[idx])\n",
        "  plt.show()\n",
        "\n",
        "plot(x_train, y_train, True)"
      ],
      "execution_count": 20,
      "outputs": [
        {
          "output_type": "display_data",
          "data": {
            "image/png": "[encoded data removed]",
            "text/plain": [
              "<Figure size 1440x144 with 10 Axes>"
            ]
          },
          "metadata": {
            "tags": []
          }
        }
      ]
    },
    {
      "cell_type": "code",
      "metadata": {
        "id": "_SG33dfV4ygb",
        "colab_type": "code",
        "colab": {}
      },
      "source": [
        ""
      ],
      "execution_count": null,
      "outputs": []
    }
  ]
}