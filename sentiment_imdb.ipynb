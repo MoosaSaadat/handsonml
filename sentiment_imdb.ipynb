{
  "nbformat": 4,
  "nbformat_minor": 0,
  "metadata": {
    "colab": {
      "name": "sentiment_imdb.ipynb",
      "provenance": [],
      "authorship_tag": "ABX9TyOGiJJ0n3NMPi4AZkXR9k9V",
      "include_colab_link": true
    },
    "kernelspec": {
      "name": "python3",
      "display_name": "Python 3"
    }
  },
  "cells": [
    {
      "cell_type": "markdown",
      "metadata": {
        "id": "view-in-github",
        "colab_type": "text"
      },
      "source": [
        "<a href=\"https://colab.research.google.com/github/MoosaSaadat/handsonml/blob/master/sentiment_imdb.ipynb\" target=\"_parent\"><img src=\"https://colab.research.google.com/assets/colab-badge.svg\" alt=\"Open In Colab\"/></a>"
      ]
    },
    {
      "cell_type": "code",
      "metadata": {
        "id": "CftBllStUurv",
        "colab_type": "code",
        "colab": {}
      },
      "source": [
        "import tensorflow as tf\n",
        "from tensorflow.keras.datasets import imdb\n",
        "from tensorflow.keras.preprocessing.sequence import pad_sequences\n",
        "from tensorflow.keras.models import Sequential\n",
        "from tensorflow.keras.layers import Embedding, Dense, GlobalAveragePooling1D\n",
        "\n",
        "import numpy as np\n",
        "import matplotlib.pyplot as plt"
      ],
      "execution_count": 18,
      "outputs": []
    },
    {
      "cell_type": "code",
      "metadata": {
        "id": "-Gm_-iYoVLyi",
        "colab_type": "code",
        "colab": {
          "base_uri": "https://localhost:8080/",
          "height": 51
        },
        "outputId": "437aa255-f3ac-46b2-f2db-e572e82a94f6"
      },
      "source": [
        "# Download dataset\n",
        "(x_train, y_train), (x_test, y_test) = imdb.load_data(num_words=10000)\n",
        "\n",
        "print(f\"Train: {x_train.shape}, {y_train.shape}\")\n",
        "print(f\"Test: {x_test.shape}, {y_test.shape}\")"
      ],
      "execution_count": 5,
      "outputs": [
        {
          "output_type": "stream",
          "text": [
            "Train: (25000,), (25000,)\n",
            "Test: (25000,), (25000,)\n"
          ],
          "name": "stdout"
        }
      ]
    },
    {
      "cell_type": "code",
      "metadata": {
        "id": "qWBbA0kyVzUL",
        "colab_type": "code",
        "colab": {
          "base_uri": "https://localhost:8080/",
          "height": 137
        },
        "outputId": "72fe464b-ccdd-4f1b-9fd6-c12a81c08d07"
      },
      "source": [
        "# Process data\n",
        "class_names = ['Negative', 'Positive']\n",
        "word_index = imdb.get_word_index()\n",
        "reverse_word_index = dict((value, key) for key, value in word_index.items())\n",
        "\n",
        "def decode(review):\n",
        "    text = ''\n",
        "    for i in review:\n",
        "        text += reverse_word_index[i]\n",
        "        text += ' '\n",
        "    return text\n",
        "\n",
        "decode(x_train[0])"
      ],
      "execution_count": 9,
      "outputs": [
        {
          "output_type": "execute_result",
          "data": {
            "application/vnd.google.colaboratory.intrinsic+json": {
              "type": "string"
            },
            "text/plain": [
              "\"the as you with out themselves powerful lets loves their becomes reaching had journalist of lot from anyone to have after out atmosphere never more room and it so heart shows to years of every never going and help moments or of every chest visual movie except her was several of enough more with is now current film as you of mine potentially unfortunately of you than him that with out themselves her get for was camp of you movie sometimes movie that with scary but and to story wonderful that in seeing in character to of 70s musicians with heart had shadows they of here that with her serious to have does when from why what have critics they is you that isn't one will very to as itself with other and in of seen over landed for anyone of and br show's to whether from than out themselves history he name half some br of and odd was two most of mean for 1 any an boat she he should is thought frog but of script you not while history he heart to real at barrel but when from one bit then have two of script their with her nobody most that with wasn't to with armed acting watch an for with heartfelt film want an \""
            ]
          },
          "metadata": {
            "tags": []
          },
          "execution_count": 9
        }
      ]
    },
    {
      "cell_type": "code",
      "metadata": {
        "id": "NS_x9BaxWr0f",
        "colab_type": "code",
        "colab": {
          "base_uri": "https://localhost:8080/",
          "height": 85
        },
        "outputId": "4c87d72f-e82d-4721-bc55-670ab9242395"
      },
      "source": [
        "# Data has no consistent shape!\n",
        "def show_lengths():\n",
        "    print('Length of 1st training example: ', len(x_train[0]))\n",
        "    print('Length of 2nd training example: ',  len(x_train[1]))\n",
        "    print('Length of 1st test example: ', len(x_test[0]))\n",
        "    print('Length of 2nd test example: ',  len(x_test[1]))\n",
        "    \n",
        "show_lengths()"
      ],
      "execution_count": 10,
      "outputs": [
        {
          "output_type": "stream",
          "text": [
            "Length of 1st training example:  218\n",
            "Length of 2nd training example:  189\n",
            "Length of 1st test example:  68\n",
            "Length of 2nd test example:  260\n"
          ],
          "name": "stdout"
        }
      ]
    },
    {
      "cell_type": "code",
      "metadata": {
        "id": "mDZeqtolW6Wk",
        "colab_type": "code",
        "colab": {
          "base_uri": "https://localhost:8080/",
          "height": 85
        },
        "outputId": "aecfd480-b556-4793-931c-5367e81a2041"
      },
      "source": [
        "# Pad datasets to have consistent shape\n",
        "SHAPE = 256\n",
        "x_train = pad_sequences(x_train, value=word_index['the'],\n",
        "                        padding='post', maxlen=SHAPE)\n",
        "x_test = pad_sequences(x_test, value=word_index['the'],\n",
        "                       padding='post', maxlen=SHAPE)\n",
        "\n",
        "show_lengths()"
      ],
      "execution_count": 14,
      "outputs": [
        {
          "output_type": "stream",
          "text": [
            "Length of 1st training example:  256\n",
            "Length of 2nd training example:  256\n",
            "Length of 1st test example:  256\n",
            "Length of 2nd test example:  256\n"
          ],
          "name": "stdout"
        }
      ]
    },
    {
      "cell_type": "code",
      "metadata": {
        "id": "ezZCE8NpXTNI",
        "colab_type": "code",
        "colab": {
          "base_uri": "https://localhost:8080/",
          "height": 137
        },
        "outputId": "ee987a17-62d1-44bc-a92d-dbe3c3227fd9"
      },
      "source": [
        "decode(x_train[0])"
      ],
      "execution_count": 15,
      "outputs": [
        {
          "output_type": "execute_result",
          "data": {
            "application/vnd.google.colaboratory.intrinsic+json": {
              "type": "string"
            },
            "text/plain": [
              "\"the as you with out themselves powerful lets loves their becomes reaching had journalist of lot from anyone to have after out atmosphere never more room and it so heart shows to years of every never going and help moments or of every chest visual movie except her was several of enough more with is now current film as you of mine potentially unfortunately of you than him that with out themselves her get for was camp of you movie sometimes movie that with scary but and to story wonderful that in seeing in character to of 70s musicians with heart had shadows they of here that with her serious to have does when from why what have critics they is you that isn't one will very to as itself with other and in of seen over landed for anyone of and br show's to whether from than out themselves history he name half some br of and odd was two most of mean for 1 any an boat she he should is thought frog but of script you not while history he heart to real at barrel but when from one bit then have two of script their with her nobody most that with wasn't to with armed acting watch an for with heartfelt film want an the the the the the the the the the the the the the the the the the the the the the the the the the the the the the the the the the the the the the the \""
            ]
          },
          "metadata": {
            "tags": []
          },
          "execution_count": 15
        }
      ]
    },
    {
      "cell_type": "code",
      "metadata": {
        "id": "wDYmdXcKXnTa",
        "colab_type": "code",
        "colab": {
          "base_uri": "https://localhost:8080/",
          "height": 289
        },
        "outputId": "f022ed54-35eb-40c3-df0c-27c865a20149"
      },
      "source": [
        "# Create Model\n",
        "model = Sequential([\n",
        "    Embedding(10000, 16),\n",
        "    GlobalAveragePooling1D(),\n",
        "    Dense(16, activation = 'relu'),\n",
        "    Dense(1, activation = 'sigmoid')\n",
        "])\n",
        "\n",
        "model.compile(\n",
        "    optimizer = 'adam',\n",
        "    loss = 'binary_crossentropy',\n",
        "    metrics = ['acc']\n",
        ")\n",
        "\n",
        "model.summary()"
      ],
      "execution_count": 17,
      "outputs": [
        {
          "output_type": "stream",
          "text": [
            "Model: \"sequential\"\n",
            "_________________________________________________________________\n",
            "Layer (type)                 Output Shape              Param #   \n",
            "=================================================================\n",
            "embedding (Embedding)        (None, None, 16)          160000    \n",
            "_________________________________________________________________\n",
            "global_average_pooling1d (Gl (None, 16)                0         \n",
            "_________________________________________________________________\n",
            "dense (Dense)                (None, 16)                272       \n",
            "_________________________________________________________________\n",
            "dense_1 (Dense)              (None, 1)                 17        \n",
            "=================================================================\n",
            "Total params: 160,289\n",
            "Trainable params: 160,289\n",
            "Non-trainable params: 0\n",
            "_________________________________________________________________\n"
          ],
          "name": "stdout"
        }
      ]
    },
    {
      "cell_type": "code",
      "metadata": {
        "id": "t_iItE3cYRbO",
        "colab_type": "code",
        "colab": {
          "base_uri": "https://localhost:8080/",
          "height": 697
        },
        "outputId": "1c09653b-fe49-4dda-b11c-1aa125f939be"
      },
      "source": [
        "# Train Model\n",
        "history = model.fit(\n",
        "    x_train, y_train,\n",
        "    validation_split=0.2,\n",
        "    epochs=20\n",
        ")"
      ],
      "execution_count": 19,
      "outputs": [
        {
          "output_type": "stream",
          "text": [
            "Epoch 1/20\n",
            "625/625 [==============================] - 3s 5ms/step - loss: 0.5449 - acc: 0.7521 - val_loss: 0.3586 - val_acc: 0.8652\n",
            "Epoch 2/20\n",
            "625/625 [==============================] - 3s 4ms/step - loss: 0.2819 - acc: 0.8950 - val_loss: 0.2869 - val_acc: 0.8822\n",
            "Epoch 3/20\n",
            "625/625 [==============================] - 3s 4ms/step - loss: 0.2136 - acc: 0.9220 - val_loss: 0.2751 - val_acc: 0.8894\n",
            "Epoch 4/20\n",
            "625/625 [==============================] - 3s 5ms/step - loss: 0.1752 - acc: 0.9364 - val_loss: 0.2825 - val_acc: 0.8880\n",
            "Epoch 5/20\n",
            "625/625 [==============================] - 3s 5ms/step - loss: 0.1465 - acc: 0.9485 - val_loss: 0.2925 - val_acc: 0.8900\n",
            "Epoch 6/20\n",
            "625/625 [==============================] - 3s 4ms/step - loss: 0.1232 - acc: 0.9598 - val_loss: 0.3118 - val_acc: 0.8832\n",
            "Epoch 7/20\n",
            "625/625 [==============================] - 3s 4ms/step - loss: 0.1042 - acc: 0.9673 - val_loss: 0.3442 - val_acc: 0.8784\n",
            "Epoch 8/20\n",
            "625/625 [==============================] - 3s 4ms/step - loss: 0.0896 - acc: 0.9729 - val_loss: 0.3612 - val_acc: 0.8814\n",
            "Epoch 9/20\n",
            "625/625 [==============================] - 3s 4ms/step - loss: 0.0744 - acc: 0.9789 - val_loss: 0.3916 - val_acc: 0.8764\n",
            "Epoch 10/20\n",
            "625/625 [==============================] - 3s 4ms/step - loss: 0.0645 - acc: 0.9833 - val_loss: 0.4319 - val_acc: 0.8740\n",
            "Epoch 11/20\n",
            "625/625 [==============================] - 3s 4ms/step - loss: 0.0542 - acc: 0.9862 - val_loss: 0.4937 - val_acc: 0.8692\n",
            "Epoch 12/20\n",
            "625/625 [==============================] - 3s 4ms/step - loss: 0.0462 - acc: 0.9892 - val_loss: 0.5289 - val_acc: 0.8666\n",
            "Epoch 13/20\n",
            "625/625 [==============================] - 3s 4ms/step - loss: 0.0394 - acc: 0.9914 - val_loss: 0.5180 - val_acc: 0.8730\n",
            "Epoch 14/20\n",
            "625/625 [==============================] - 3s 4ms/step - loss: 0.0324 - acc: 0.9930 - val_loss: 0.5750 - val_acc: 0.8718\n",
            "Epoch 15/20\n",
            "625/625 [==============================] - 3s 4ms/step - loss: 0.0262 - acc: 0.9949 - val_loss: 0.5974 - val_acc: 0.8708\n",
            "Epoch 16/20\n",
            "625/625 [==============================] - 3s 4ms/step - loss: 0.0219 - acc: 0.9962 - val_loss: 0.6410 - val_acc: 0.8702\n",
            "Epoch 17/20\n",
            "625/625 [==============================] - 3s 4ms/step - loss: 0.0174 - acc: 0.9975 - val_loss: 0.6899 - val_acc: 0.8688\n",
            "Epoch 18/20\n",
            "625/625 [==============================] - 3s 4ms/step - loss: 0.0136 - acc: 0.9981 - val_loss: 0.7706 - val_acc: 0.8650\n",
            "Epoch 19/20\n",
            "625/625 [==============================] - 3s 4ms/step - loss: 0.0113 - acc: 0.9985 - val_loss: 0.7702 - val_acc: 0.8646\n",
            "Epoch 20/20\n",
            "625/625 [==============================] - 3s 4ms/step - loss: 0.0093 - acc: 0.9988 - val_loss: 0.8343 - val_acc: 0.8648\n"
          ],
          "name": "stdout"
        }
      ]
    },
    {
      "cell_type": "code",
      "metadata": {
        "id": "Kkh1Kj6AYxP_",
        "colab_type": "code",
        "colab": {}
      },
      "source": [
        ""
      ],
      "execution_count": null,
      "outputs": []
    }
  ]
}